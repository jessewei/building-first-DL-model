{
    "metadata": {
        "language_info": {
            "codemirror_mode": {
                "name": "ipython", 
                "version": 2
            }, 
            "file_extension": ".py", 
            "pygments_lexer": "ipython2", 
            "nbconvert_exporter": "python", 
            "mimetype": "text/x-python", 
            "name": "python", 
            "version": "2.7.11"
        }, 
        "kernelspec": {
            "name": "python2-spark21", 
            "language": "python", 
            "display_name": "Python 2 with Spark 2.1"
        }
    }, 
    "nbformat": 4, 
    "nbformat_minor": 1, 
    "cells": [
        {
            "source": "# Buiding Your First Machine Learning Model\n\nIn this Tutorial you will learn how to build a Convolutional Neural Network (CNN) to identify handwriting. It is an introductory tutorial that will teach you how to create the different layers in a CNN using the tensorflow library. ", 
            "metadata": {
                "collapsed": true
            }, 
            "cell_type": "markdown"
        }, 
        {
            "source": "## What is a Neural Network\n\nA neural network (NN) is a machine learning model that is used to classify and predict a certain variable using a set of features in the data. Typically, it consists of an input layer that takes in the features, a number of hidden layers (more layer -> deep NN), and an oputput layer that returns the prediction. The layers in the NN are are composed of Neurons (aka Perceptrons), which are essentially a mathematical function in the from of `y = Wx + b` where W is the weight and b is the biase. Also, typically the output of a perceptron is passed to an [activation function which normalizes the result](https://en.wikipedia.org/wiki/Activation_function). \n\nA CNN is basically a NN with one or more of its hidden layers, typically first, being a [Convolution](https://en.wikipedia.org/wiki/Convolution). This allows the NN to extract features from input such as images.\n\n![NN](https://i.imgur.com/xPMkf4i.png)\n\n```\nBaced on 'A deep MNIST classifier using convolutional layers'.\nSee extensive documentation at\nhttps://www.tensorflow.org/get_started/mnist/pros\n```\n", 
            "metadata": {}, 
            "cell_type": "markdown"
        }, 
        {
            "source": "## Imports\n\nThis tutorial uses [Tensorflow](https://www.tensorflow.org/), which is an open source library released by Google. \n\nIn order to be able to build, test, and run a NN in Tensorflow, the following imports have to be used.\nThis also imports the MNIST data set (each point in the data set is a handwritten reprentation of the digits 0-9 in 784 pixels)", 
            "metadata": {}, 
            "cell_type": "markdown"
        }, 
        {
            "execution_count": 12, 
            "source": "\"\"\"A deep MNIST classifier using convolutional layers.\nSee extensive documentation at\nhttps://www.tensorflow.org/get_started/mnist/pros\n\"\"\"\n\nfrom __future__ import absolute_import\nfrom __future__ import division\nfrom __future__ import print_function\n\nimport tempfile\nimport argparse\n\nfrom tensorflow.examples.tutorials.mnist import input_data\n\nimport tensorflow as tf\n", 
            "metadata": {
                "collapsed": true
            }, 
            "outputs": [], 
            "cell_type": "code"
        }, 
        {
            "source": "## Building Blocks\n\nIn order to build a CNN, we need to define the basic building blocks: A convolution function, a max pool function, a weight, and a biase. These 4 functions will be later combined form the perceptrons and different layers in the CNN.", 
            "metadata": {}, 
            "cell_type": "markdown"
        }, 
        {
            "execution_count": 13, 
            "source": "# Convolution\ndef conv2d(x, W):\n  \"\"\"conv2d returns a 2d convolution layer with full stride.\"\"\"\n\n\n# Max Pool \ndef max_pool_2x2(x):\n  \"\"\"max_pool_2x2 downsamples a feature map by 2X.\"\"\"\n\n\n# Weight \ndef weight_variable(shape):\n  \"\"\"weight_variable generates a weight variable of a given shape.\"\"\"\n\n\n# Biase\ndef bias_variable(shape):\n  \"\"\"bias_variable generates a bias variable of a given shape.\"\"\"\n\n", 
            "metadata": {
                "collapsed": true
            }, 
            "outputs": [], 
            "cell_type": "code"
        }, 
        {
            "source": "## The Neural Network\n\nThis section of the code focuses on defining the CNN and the structure of the CNN. First the input is reshaped into a 28x28x1 tensor (array). \n\nIn the first layer: the input is convoluted with by a weight and then the biase is added. The result is then normalised using the relu function. \n\nIn the second layer: max pooling is applied to reduce the dimentionality after applying the convolution.\n\nThese two layers are repeated twice.\n\nThen, then result of the second pooling layer is passed to a connected layer, then is passed through a dropout filter to reduce overfitting, and eventually the recuded-complexity \nmodel is passed to an output connected layer.\n\nThe output layer returns one of 10 classes pertaining to the digits 0-9.", 
            "metadata": {}, 
            "cell_type": "markdown"
        }, 
        {
            "execution_count": 14, 
            "source": "def deepnn(x):\n  \"\"\"deepnn builds the graph for a deep net for classifying digits.\n  Args:\n    x: an input tensor with the dimensions (N_examples, 784), where 784 is the\n    number of pixels in a standard MNIST image.\n  Returns:\n    A tuple (y, keep_prob). y is a tensor of shape (N_examples, 10), with values\n    equal to the logits of classifying the digit into one of 10 classes (the\n    digits 0-9). keep_prob is a scalar placeholder for the probability of\n    dropout.\n  \"\"\"\n  # Reshape to use within a convolutional neural net.\n  # Last dimension is for \"features\" - there is only one here, since images are\n  # grayscale -- it would be 3 for an RGB image, 4 for RGBA, etc.\n  with tf.name_scope('reshape'):\n\n    \n  # First convolutional layer - maps one grayscale image to 32 feature maps.\n  with tf.name_scope('conv1'):\n    \n    \n  # Pooling layer - downsamples by 2X.\n  with tf.name_scope('pool1'):\n    \n    \n  # Second convolutional layer -- maps 32 feature maps to 64.\n  with tf.name_scope('conv2'):\n    \n    \n  # Second pooling layer.\n  with tf.name_scope('pool2'):\n    \n    \n  # Fully connected layer 1 -- after 2 round of downsampling, our 28x28 image\n  # is down to 7x7x64 feature maps -- maps this to 1024 features.\n  with tf.name_scope('fc1'):\n    \n    \n    \n    \n  # Dropout - controls the complexity of the model, prevents co-adaptation of\n  # features.\n  with tf.name_scope('dropout'):\n    \n    \n  # Map the 1024 features to 10 classes, one for each digit\n  with tf.name_scope('fc2'):\n    \n    \n    \n    ", 
            "metadata": {
                "collapsed": true
            }, 
            "outputs": [], 
            "cell_type": "code"
        }, 
        {
            "source": "## Building the CNN\n\nHaving defied the CNN, we then build it.\n\nFirst: the data set is imported into the environment and stored in the variable `mnist`.\n\nSecond: the input and outpu are defined as `x` and `_y` and the CNN is applied to `x`.\n\nThen, the cross entropy is defined as the error function to be reduced and the training method is defined as well.\n\nFinally, the accuracy is calculated and the Tensorflow graph is defined.", 
            "metadata": {}, 
            "cell_type": "markdown"
        }, 
        {
            "execution_count": 15, 
            "source": "# Import data\nparser = argparse.ArgumentParser()\nparser.add_argument('--data_dir', type=str,\n                  default='/tmp/tensorflow/mnist/input_data',\n                  help='Directory for storing input data')\nFLAGS, unparsed = parser.parse_known_args()\nmnist = input_data.read_data_sets(FLAGS.data_dir, one_hot=True)\n\n# Create the model\n\n\n# Define loss and optimizer\n\n\n# Build the graph for the deep net\n\n\nwith tf.name_scope('loss'):\n\n    \n    \n    \nwith tf.name_scope('adam_optimizer'):\n    \n    \nwith tf.name_scope('accuracy'):\n\n    \ngraph_location = tempfile.mkdtemp()\nprint('Saving graph to: %s' % graph_location)\ntrain_writer = tf.summary.FileWriter(graph_location)\ntrain_writer.add_graph(tf.get_default_graph())", 
            "metadata": {}, 
            "outputs": [
                {
                    "name": "stdout", 
                    "output_type": "stream", 
                    "text": "Extracting /tmp/tensorflow/mnist/input_data/train-images-idx3-ubyte.gz\nExtracting /tmp/tensorflow/mnist/input_data/train-labels-idx1-ubyte.gz\nExtracting /tmp/tensorflow/mnist/input_data/t10k-images-idx3-ubyte.gz\nExtracting /tmp/tensorflow/mnist/input_data/t10k-labels-idx1-ubyte.gz\nSaving graph to: /gpfs/fs01/user/s3be-1ef17c273e0309-b0890f841249/notebook/tmp/tmpchXdp7\n"
                }
            ], 
            "cell_type": "code"
        }, 
        {
            "source": "## Training the CNN\n\nThe last step is doing the actual training of the CNN. ", 
            "metadata": {}, 
            "cell_type": "markdown"
        }, 
        {
            "execution_count": 16, 
            "source": "with tf.Session() as sess:\n    sess.run(tf.global_variables_initializer())\n    for i in range(20000):\n      batch = mnist.train.next_batch(50)\n      if i % 100 == 0:\n        train_accuracy = accuracy.eval(feed_dict={\n            x: batch[0], y_: batch[1], keep_prob: 1.0})\n        print('step %d, training accuracy %g' % (i, train_accuracy))\n      train_step.run(feed_dict={x: batch[0], y_: batch[1], keep_prob: 0.5})\n\n    print('test accuracy %g' % accuracy.eval(feed_dict={\n        x: mnist.test.images, y_: mnist.test.labels, keep_prob: 1.0}))", 
            "metadata": {
                "scrolled": true
            }, 
            "outputs": [
                {
                    "name": "stdout", 
                    "output_type": "stream", 
                    "text": "step 0, training accuracy 0.02\nstep 100, training accuracy 0.88\nstep 200, training accuracy 0.88\nstep 300, training accuracy 0.9\nstep 400, training accuracy 0.92\nstep 500, training accuracy 0.98\nstep 600, training accuracy 0.92\nstep 700, training accuracy 0.96\nstep 800, training accuracy 0.94\nstep 900, training accuracy 0.96\nstep 1000, training accuracy 0.96\nstep 1100, training accuracy 0.98\nstep 1200, training accuracy 0.92\nstep 1300, training accuracy 0.96\nstep 1400, training accuracy 0.96\nstep 1500, training accuracy 0.94\nstep 1600, training accuracy 0.88\nstep 1700, training accuracy 1\nstep 1800, training accuracy 0.98\nstep 1900, training accuracy 0.92\nstep 2000, training accuracy 1\nstep 2100, training accuracy 0.98\nstep 2200, training accuracy 0.94\nstep 2300, training accuracy 1\nstep 2400, training accuracy 0.96\nstep 2500, training accuracy 0.94\nstep 2600, training accuracy 0.98\nstep 2700, training accuracy 0.98\nstep 2800, training accuracy 1\nstep 2900, training accuracy 0.96\nstep 3000, training accuracy 0.94\nstep 3100, training accuracy 1\nstep 3200, training accuracy 1\nstep 3300, training accuracy 1\nstep 3400, training accuracy 0.98\nstep 3500, training accuracy 0.98\nstep 3600, training accuracy 0.98\nstep 3700, training accuracy 1\nstep 3800, training accuracy 1\nstep 3900, training accuracy 0.98\nstep 4000, training accuracy 1\nstep 4100, training accuracy 0.98\nstep 4200, training accuracy 1\nstep 4300, training accuracy 0.98\nstep 4400, training accuracy 0.98\nstep 4500, training accuracy 0.98\nstep 4600, training accuracy 1\nstep 4700, training accuracy 1\nstep 4800, training accuracy 0.98\nstep 4900, training accuracy 0.98\nstep 5000, training accuracy 1\nstep 5100, training accuracy 0.98\nstep 5200, training accuracy 1\nstep 5300, training accuracy 1\nstep 5400, training accuracy 0.98\nstep 5500, training accuracy 1\nstep 5600, training accuracy 0.98\nstep 5700, training accuracy 1\nstep 5800, training accuracy 0.96\nstep 5900, training accuracy 0.98\nstep 6000, training accuracy 1\nstep 6100, training accuracy 0.98\nstep 6200, training accuracy 0.98\nstep 6300, training accuracy 1\nstep 6400, training accuracy 1\nstep 6500, training accuracy 0.98\nstep 6600, training accuracy 1\nstep 6700, training accuracy 1\nstep 6800, training accuracy 1\nstep 6900, training accuracy 0.96\nstep 7000, training accuracy 1\nstep 7100, training accuracy 0.98\nstep 7200, training accuracy 1\nstep 7300, training accuracy 1\nstep 7400, training accuracy 0.98\nstep 7500, training accuracy 0.98\nstep 7600, training accuracy 0.98\nstep 7700, training accuracy 1\nstep 7800, training accuracy 0.98\nstep 7900, training accuracy 1\nstep 8000, training accuracy 1\nstep 8100, training accuracy 1\nstep 8200, training accuracy 0.96\nstep 8300, training accuracy 1\nstep 8400, training accuracy 1\nstep 8500, training accuracy 1\nstep 8600, training accuracy 0.96\nstep 8700, training accuracy 1\nstep 8800, training accuracy 1\nstep 8900, training accuracy 1\nstep 9000, training accuracy 0.98\nstep 9100, training accuracy 1\nstep 9200, training accuracy 1\nstep 9300, training accuracy 1\nstep 9400, training accuracy 1\nstep 9500, training accuracy 0.98\nstep 9600, training accuracy 0.98\nstep 9700, training accuracy 1\nstep 9800, training accuracy 1\nstep 9900, training accuracy 1\nstep 10000, training accuracy 0.98\nstep 10100, training accuracy 1\nstep 10200, training accuracy 1\nstep 10300, training accuracy 1\nstep 10400, training accuracy 0.98\nstep 10500, training accuracy 1\nstep 10600, training accuracy 0.98\nstep 10700, training accuracy 1\nstep 10800, training accuracy 1\nstep 10900, training accuracy 1\nstep 11000, training accuracy 1\nstep 11100, training accuracy 1\nstep 11200, training accuracy 1\nstep 11300, training accuracy 1\nstep 11400, training accuracy 1\nstep 11500, training accuracy 1\nstep 11600, training accuracy 0.98\nstep 11700, training accuracy 1\nstep 11800, training accuracy 1\nstep 11900, training accuracy 1\nstep 12000, training accuracy 0.98\nstep 12100, training accuracy 1\nstep 12200, training accuracy 1\nstep 12300, training accuracy 1\nstep 12400, training accuracy 1\nstep 12500, training accuracy 1\nstep 12600, training accuracy 1\nstep 12700, training accuracy 1\nstep 12800, training accuracy 1\nstep 12900, training accuracy 1\nstep 13000, training accuracy 0.98\nstep 13100, training accuracy 1\nstep 13200, training accuracy 1\nstep 13300, training accuracy 1\nstep 13400, training accuracy 0.98\nstep 13500, training accuracy 1\nstep 13600, training accuracy 1\nstep 13700, training accuracy 1\nstep 13800, training accuracy 1\nstep 13900, training accuracy 1\nstep 14000, training accuracy 1\nstep 14100, training accuracy 0.98\nstep 14200, training accuracy 1\nstep 14300, training accuracy 1\nstep 14400, training accuracy 1\nstep 14500, training accuracy 1\nstep 14600, training accuracy 1\nstep 14700, training accuracy 1\nstep 14800, training accuracy 1\nstep 14900, training accuracy 1\nstep 15000, training accuracy 1\nstep 15100, training accuracy 1\nstep 15200, training accuracy 1\nstep 15300, training accuracy 1\nstep 15400, training accuracy 1\nstep 15500, training accuracy 1\nstep 15600, training accuracy 1\nstep 15700, training accuracy 1\nstep 15800, training accuracy 1\nstep 15900, training accuracy 1\nstep 16000, training accuracy 0.98\nstep 16100, training accuracy 1\nstep 16200, training accuracy 1\nstep 16300, training accuracy 1\nstep 16400, training accuracy 1\nstep 16500, training accuracy 1\nstep 16600, training accuracy 1\nstep 16700, training accuracy 1\nstep 16800, training accuracy 1\nstep 16900, training accuracy 1\nstep 17000, training accuracy 1\nstep 17100, training accuracy 1\nstep 17200, training accuracy 1\nstep 17300, training accuracy 1\nstep 17400, training accuracy 0.98\nstep 17500, training accuracy 1\nstep 17600, training accuracy 1\nstep 17700, training accuracy 1\nstep 17800, training accuracy 1\nstep 17900, training accuracy 1\nstep 18000, training accuracy 1\nstep 18100, training accuracy 1\nstep 18200, training accuracy 1\nstep 18300, training accuracy 1\nstep 18400, training accuracy 1\nstep 18500, training accuracy 1\nstep 18600, training accuracy 1\nstep 18700, training accuracy 1\nstep 18800, training accuracy 1\nstep 18900, training accuracy 1\nstep 19000, training accuracy 1\nstep 19100, training accuracy 1\nstep 19200, training accuracy 1\nstep 19300, training accuracy 1\nstep 19400, training accuracy 1\nstep 19500, training accuracy 1\nstep 19600, training accuracy 1\nstep 19700, training accuracy 1\nstep 19800, training accuracy 1\nstep 19900, training accuracy 1\ntest accuracy 0.9927\n"
                }
            ], 
            "cell_type": "code"
        }, 
        {
            "source": "## Conclusion\n", 
            "metadata": {}, 
            "cell_type": "markdown"
        }
    ]
}